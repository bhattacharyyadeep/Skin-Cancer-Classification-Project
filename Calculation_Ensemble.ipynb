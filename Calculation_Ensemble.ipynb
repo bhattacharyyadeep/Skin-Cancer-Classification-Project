{
  "cells": [
    {
      "cell_type": "code",
      "execution_count": null,
      "metadata": {
        "colab": {
          "base_uri": "https://localhost:8080/"
        },
        "id": "s8-LsrNv0tgL",
        "outputId": "a0b3a2c6-b8be-4354-ac97-1a2227ced41a"
      },
      "outputs": [
        {
          "output_type": "stream",
          "name": "stdout",
          "text": [
            "Mounted at /content/drive\n"
          ]
        }
      ],
      "source": [
        "import torch\n",
        "import torch.nn as nn\n",
        "import torch.optim as optim\n",
        "from torchvision import datasets, models, transforms\n",
        "from torch.utils.data import DataLoader\n",
        "from sklearn.metrics import accuracy_score, precision_score, recall_score, f1_score\n",
        "\n",
        "from google.colab import drive\n",
        "drive.mount('/content/drive')"
      ]
    },
    {
      "cell_type": "code",
      "execution_count": null,
      "metadata": {
        "id": "iMOKfXh603lA"
      },
      "outputs": [],
      "source": [
        "import torch\n",
        "\n",
        "# Paths to your saved models\n",
        "path_resnet = '/content/drive/MyDrive/Models_Project/model_ResNet101.pth'\n",
        "path_densenet = '/content/drive/MyDrive/Models_Project/model_DenseNet201.pth'\n",
        "path_vit = '/content/drive/MyDrive/Models_Project/model_ViT.pth'\n",
        "\n",
        "# Load the models\n",
        "model_ResNet101 = torch.load(path_resnet)\n",
        "model_DenseNet201 = torch.load(path_densenet)\n",
        "model_ViT = torch.load(path_vit)\n"
      ]
    },
    {
      "cell_type": "code",
      "execution_count": null,
      "metadata": {
        "id": "8JM1-TLI1kUO"
      },
      "outputs": [],
      "source": [
        "transform = transforms.Compose([\n",
        "    transforms.Resize((224, 224)),\n",
        "    transforms.ToTensor(),\n",
        "    transforms.Normalize(mean=[0.485, 0.456, 0.406], std=[0.229, 0.224, 0.225])\n",
        "])\n"
      ]
    },
    {
      "cell_type": "code",
      "execution_count": null,
      "metadata": {
        "id": "oCGBbSvE1hN_"
      },
      "outputs": [],
      "source": [
        "train_dataset = datasets.ImageFolder(\"/content/drive/MyDrive/ISIC2016 original/train\", transform=transform)\n",
        "test_dataset = datasets.ImageFolder(\"/content/drive/MyDrive/ISIC2016 original/test\", transform=transform)"
      ]
    },
    {
      "cell_type": "code",
      "execution_count": null,
      "metadata": {
        "id": "XR7_MzkD1qP8"
      },
      "outputs": [],
      "source": [
        "train_loader = DataLoader(train_dataset, batch_size=32, shuffle=True)\n",
        "test_loader = DataLoader(test_dataset, batch_size=32, shuffle=False)"
      ]
    },
    {
      "cell_type": "code",
      "execution_count": null,
      "metadata": {
        "colab": {
          "base_uri": "https://localhost:8080/",
          "height": 35
        },
        "id": "PmAHIGQ11vfF",
        "outputId": "75e4b451-ba2d-4e6e-d657-d20236656c51"
      },
      "outputs": [
        {
          "output_type": "execute_result",
          "data": {
            "text/plain": [
              "'cuda'"
            ],
            "application/vnd.google.colaboratory.intrinsic+json": {
              "type": "string"
            }
          },
          "metadata": {},
          "execution_count": 6
        }
      ],
      "source": [
        "device = \"cuda\" if torch.cuda.is_available() else \"cpu\"\n",
        "device"
      ]
    },
    {
      "cell_type": "code",
      "execution_count": null,
      "metadata": {
        "id": "eDiU6MpL2OrE"
      },
      "outputs": [],
      "source": [
        "class EnsembleModel(nn.Module):\n",
        "    def __init__(self, model_A, model_B, model_C, weights):\n",
        "        super(EnsembleModel, self).__init__()\n",
        "        self.model_A = model_A\n",
        "        self.model_B = model_B\n",
        "        self.model_C = model_C\n",
        "        self.weights = weights\n",
        "\n",
        "    def forward(self, x):\n",
        "        output_A = self.model_A(x)\n",
        "        output_B = self.model_B(x)\n",
        "        output_C = self.model_C(x)\n",
        "        return self.weights[0] * output_A + self.weights[1] * output_B + self.weights[2] * output_C\n",
        "\n",
        "# Instantiate the ensemble model with trained models and weights\n",
        "ensemble_model = EnsembleModel(model_ResNet101, model_DenseNet201, model_ViT, [0.25, 0.5, 0.25])\n",
        "\n",
        "\n"
      ]
    },
    {
      "cell_type": "code",
      "execution_count": null,
      "metadata": {
        "id": "yTaznSe13PSi"
      },
      "outputs": [],
      "source": [
        "from sklearn.metrics import confusion_matrix\n",
        "import seaborn as sns\n",
        "import matplotlib.pyplot as plt\n",
        "import numpy as np\n",
        "\n",
        "def evaluate_model(ensemble_model, test_loader, device):\n",
        "    ensemble_model.eval()\n",
        "    true_labels = []\n",
        "    predicted_labels = []\n",
        "\n",
        "    with torch.no_grad():\n",
        "        for inputs, labels in test_loader:\n",
        "            inputs, labels = inputs.to(device), labels.to(device)\n",
        "            outputs = ensemble_model(inputs)\n",
        "            _, predicted = torch.max(outputs, 1)\n",
        "            true_labels.extend(labels.cpu().numpy())\n",
        "            predicted_labels.extend(predicted.cpu().numpy())\n",
        "\n",
        "    # # Calculate metrics\n",
        "    # accuracy = accuracy_score(true_labels, predicted_labels)\n",
        "    # precision = precision_score(true_labels, predicted_labels, average='weighted')\n",
        "    # recall = recall_score(true_labels, predicted_labels, average='weighted')\n",
        "    # f1 = f1_score(true_labels, predicted_labels, average='weighted')\n",
        "\n",
        "    # Calculate confusion matrix\n",
        "    cm = confusion_matrix(true_labels, predicted_labels)\n",
        "\n",
        "    # Extracting TP, FP, FN, and TN from the confusion matrix\n",
        "    TP = cm[0, 0]\n",
        "    FN = cm[0, 1]\n",
        "    FP = cm[1, 0]\n",
        "    TN = cm[1, 1]\n",
        "\n",
        "    # Calculate Accuracy\n",
        "    accuracy = (TP + TN) / float(TP + TN + FP + FN)\n",
        "\n",
        "    # Calculate Precision\n",
        "    precision = TP / float(TP + FP) if (TP + FP) != 0 else 0\n",
        "\n",
        "    # Calculate Recall\n",
        "    recall = TP / float(TP + FN) if (TP + FN) != 0 else 0\n",
        "\n",
        "    # Calculate F1 Score\n",
        "    f1 = 2 * (precision * recall) / (precision + recall) if (precision + recall) != 0 else 0\n",
        "\n",
        "    # print(f'Accuracy: {accuracy * 100:.2f}%')\n",
        "    #       print(f'Precision: {precision * 100:.2f}%')\n",
        "    #       print(f'Recall: {recall * 100:.2f}%')\n",
        "    #       print(f'F1 Score: {f1_score * 100:.2f}%')\n",
        "\n",
        "    return accuracy, precision, recall, f1, cm\n",
        "\n",
        "def plot_confusion_matrix(cm, title='Confusion Matrix'):\n",
        "    plt.figure(figsize=(8, 6))\n",
        "    sns.heatmap(cm, annot=True, fmt='d', cmap='Blues', cbar=False)\n",
        "    plt.title(title)\n",
        "    plt.xlabel('Predicted Label')\n",
        "    plt.ylabel('True Label')\n",
        "    plt.show()\n"
      ]
    },
    {
      "cell_type": "code",
      "execution_count": null,
      "metadata": {
        "id": "MfbyheX98DKY"
      },
      "outputs": [],
      "source": [
        "model_1 = [0.0, 0.1, 0.2, 0.3, 0.4, 0.5, 0.6, 0.7, 0.8,0.9,1.0, 0.15, 0.25, 0.35, 0.45, 0.55, 0.65, 0.75, 0.85, 0.05, 0.95]\n",
        "model_2 = [0.0, 0.1, 0.2, 0.3, 0.4, 0.5, 0.6, 0.7, 0.8,0.9,1.0, 0.15, 0.25, 0.35, 0.45, 0.55, 0.65, 0.75, 0.85, 0.05, 0.95]\n",
        "model_3 = [0.0, 0.1, 0.2, 0.3, 0.4, 0.5, 0.6, 0.7, 0.8,0.9,1.0, 0.15, 0.25, 0.35, 0.45, 0.55, 0.65, 0.75, 0.85, 0.05, 0.95]\n",
        "\n",
        "res = [[i, j, k] for i in model_1\n",
        "                for j in model_2\n",
        "                for k in model_3 if i + j + k == 1]"
      ]
    },
    {
      "cell_type": "code",
      "execution_count": null,
      "metadata": {
        "id": "vgV4J69iSVlH"
      },
      "outputs": [],
      "source": [
        "import csv\n",
        "\n",
        "# File path of the CSV file to save the results\n",
        "results_file_path = '/content/drive/MyDrive/Models_Project/Results/ensemble_Resnet101_DenseNet_VIT_results.csv'\n",
        "\n",
        "# Create a blank CSV file with the header\n",
        "with open(results_file_path, mode='w', newline='') as file:\n",
        "    writer = csv.writer(file)\n",
        "    # Write the header row\n",
        "    writer.writerow(['Ensemble Ratio', 'Resnet101 Weight', 'DenseNet201 Weight', 'ViT Weight', 'Accuracy', 'Precision', 'Recall', 'F1 Score'])\n"
      ]
    },
    {
      "cell_type": "code",
      "execution_count": null,
      "metadata": {
        "colab": {
          "base_uri": "https://localhost:8080/"
        },
        "id": "zZGqk_4s3VsU",
        "outputId": "9bda35e9-d99f-486f-9bef-3944de07813e"
      },
      "outputs": [
        {
          "output_type": "stream",
          "name": "stdout",
          "text": [
            "Ensemble(Ratio):Resnet101:0.0 DenseNet201:0.0 VIT:1.0  Accuracy: 0.7916, Precision: 0.8594, Recall: 0.8849, F1 Score: 0.8720\n",
            "Ensemble(Ratio):Resnet101:0.0 DenseNet201:0.1 VIT:0.9  Accuracy: 0.7942, Precision: 0.8509, Recall: 0.9013, F1 Score: 0.8754\n",
            "Ensemble(Ratio):Resnet101:0.0 DenseNet201:0.2 VIT:0.8  Accuracy: 0.8047, Precision: 0.8506, Recall: 0.9178, F1 Score: 0.8829\n",
            "Ensemble(Ratio):Resnet101:0.0 DenseNet201:0.3 VIT:0.7  Accuracy: 0.8153, Precision: 0.8524, Recall: 0.9309, F1 Score: 0.8899\n",
            "Ensemble(Ratio):Resnet101:0.0 DenseNet201:0.4 VIT:0.6  Accuracy: 0.8338, Precision: 0.8555, Recall: 0.9539, F1 Score: 0.9020\n",
            "Ensemble(Ratio):Resnet101:0.0 DenseNet201:0.5 VIT:0.5  Accuracy: 0.8575, Precision: 0.8676, Recall: 0.9704, F1 Score: 0.9161\n",
            "Ensemble(Ratio):Resnet101:0.0 DenseNet201:0.6 VIT:0.4  Accuracy: 0.8734, Precision: 0.8765, Recall: 0.9803, F1 Score: 0.9255\n",
            "Ensemble(Ratio):Resnet101:0.0 DenseNet201:0.7 VIT:0.3  Accuracy: 0.8760, Precision: 0.8813, Recall: 0.9770, F1 Score: 0.9267\n",
            "Ensemble(Ratio):Resnet101:0.0 DenseNet201:0.8 VIT:0.2  Accuracy: 0.8681, Precision: 0.8780, Recall: 0.9704, F1 Score: 0.9219\n",
            "Ensemble(Ratio):Resnet101:0.0 DenseNet201:0.9 VIT:0.1  Accuracy: 0.8628, Precision: 0.8750, Recall: 0.9671, F1 Score: 0.9187\n",
            "Ensemble(Ratio):Resnet101:0.0 DenseNet201:1.0 VIT:0.0  Accuracy: 0.8549, Precision: 0.8716, Recall: 0.9605, F1 Score: 0.9139\n",
            "Ensemble(Ratio):Resnet101:0.0 DenseNet201:0.15 VIT:0.85  Accuracy: 0.7942, Precision: 0.8488, Recall: 0.9046, F1 Score: 0.8758\n",
            "Ensemble(Ratio):Resnet101:0.0 DenseNet201:0.25 VIT:0.75  Accuracy: 0.8100, Precision: 0.8515, Recall: 0.9243, F1 Score: 0.8864\n",
            "Ensemble(Ratio):Resnet101:0.0 DenseNet201:0.35 VIT:0.65  Accuracy: 0.8206, Precision: 0.8533, Recall: 0.9375, F1 Score: 0.8934\n",
            "Ensemble(Ratio):Resnet101:0.0 DenseNet201:0.45 VIT:0.55  Accuracy: 0.8470, Precision: 0.8618, Recall: 0.9638, F1 Score: 0.9099\n",
            "Ensemble(Ratio):Resnet101:0.0 DenseNet201:0.55 VIT:0.45  Accuracy: 0.8628, Precision: 0.8684, Recall: 0.9770, F1 Score: 0.9195\n",
            "Ensemble(Ratio):Resnet101:0.0 DenseNet201:0.65 VIT:0.35  Accuracy: 0.8786, Precision: 0.8817, Recall: 0.9803, F1 Score: 0.9283\n",
            "Ensemble(Ratio):Resnet101:0.0 DenseNet201:0.75 VIT:0.25  Accuracy: 0.8760, Precision: 0.8813, Recall: 0.9770, F1 Score: 0.9267\n",
            "Ensemble(Ratio):Resnet101:0.0 DenseNet201:0.85 VIT:0.15  Accuracy: 0.8628, Precision: 0.8750, Recall: 0.9671, F1 Score: 0.9187\n",
            "Ensemble(Ratio):Resnet101:0.0 DenseNet201:0.05 VIT:0.95  Accuracy: 0.7995, Precision: 0.8585, Recall: 0.8980, F1 Score: 0.8778\n",
            "Ensemble(Ratio):Resnet101:0.0 DenseNet201:0.95 VIT:0.05  Accuracy: 0.8549, Precision: 0.8716, Recall: 0.9605, F1 Score: 0.9139\n",
            "Ensemble(Ratio):Resnet101:0.1 DenseNet201:0.0 VIT:0.9  Accuracy: 0.8021, Precision: 0.8523, Recall: 0.9112, F1 Score: 0.8808\n",
            "Ensemble(Ratio):Resnet101:0.1 DenseNet201:0.1 VIT:0.8  Accuracy: 0.8100, Precision: 0.8537, Recall: 0.9211, F1 Score: 0.8861\n",
            "Ensemble(Ratio):Resnet101:0.1 DenseNet201:0.2 VIT:0.7  Accuracy: 0.8153, Precision: 0.8503, Recall: 0.9342, F1 Score: 0.8903\n",
            "Ensemble(Ratio):Resnet101:0.1 DenseNet201:0.3 VIT:0.6  Accuracy: 0.8338, Precision: 0.8534, Recall: 0.9572, F1 Score: 0.9023\n",
            "Ensemble(Ratio):Resnet101:0.1 DenseNet201:0.4 VIT:0.5  Accuracy: 0.8443, Precision: 0.8530, Recall: 0.9737, F1 Score: 0.9094\n",
            "Ensemble(Ratio):Resnet101:0.1 DenseNet201:0.5 VIT:0.4  Accuracy: 0.8654, Precision: 0.8667, Recall: 0.9836, F1 Score: 0.9214\n",
            "Ensemble(Ratio):Resnet101:0.1 DenseNet201:0.6 VIT:0.3  Accuracy: 0.8786, Precision: 0.8794, Recall: 0.9836, F1 Score: 0.9286\n",
            "Ensemble(Ratio):Resnet101:0.1 DenseNet201:0.7 VIT:0.2  Accuracy: 0.8707, Precision: 0.8739, Recall: 0.9803, F1 Score: 0.9240\n",
            "Ensemble(Ratio):Resnet101:0.1 DenseNet201:0.8 VIT:0.1  Accuracy: 0.8602, Precision: 0.8702, Recall: 0.9704, F1 Score: 0.9176\n",
            "Ensemble(Ratio):Resnet101:0.1 DenseNet201:0.9 VIT:0.0  Accuracy: 0.8549, Precision: 0.8694, Recall: 0.9638, F1 Score: 0.9142\n",
            "Ensemble(Ratio):Resnet101:0.1 DenseNet201:0.15 VIT:0.75  Accuracy: 0.8153, Precision: 0.8524, Recall: 0.9309, F1 Score: 0.8899\n",
            "Ensemble(Ratio):Resnet101:0.1 DenseNet201:0.25 VIT:0.65  Accuracy: 0.8259, Precision: 0.8500, Recall: 0.9507, F1 Score: 0.8975\n",
            "Ensemble(Ratio):Resnet101:0.1 DenseNet201:0.35 VIT:0.55  Accuracy: 0.8364, Precision: 0.8497, Recall: 0.9671, F1 Score: 0.9046\n",
            "Ensemble(Ratio):Resnet101:0.1 DenseNet201:0.45 VIT:0.45  Accuracy: 0.8549, Precision: 0.8609, Recall: 0.9770, F1 Score: 0.9153\n",
            "Ensemble(Ratio):Resnet101:0.1 DenseNet201:0.55 VIT:0.35  Accuracy: 0.8760, Precision: 0.8746, Recall: 0.9868, F1 Score: 0.9274\n",
            "Ensemble(Ratio):Resnet101:0.1 DenseNet201:0.65 VIT:0.25  Accuracy: 0.8786, Precision: 0.8817, Recall: 0.9803, F1 Score: 0.9283\n",
            "Ensemble(Ratio):Resnet101:0.1 DenseNet201:0.75 VIT:0.15  Accuracy: 0.8681, Precision: 0.8735, Recall: 0.9770, F1 Score: 0.9224\n",
            "Ensemble(Ratio):Resnet101:0.1 DenseNet201:0.85 VIT:0.05  Accuracy: 0.8549, Precision: 0.8694, Recall: 0.9638, F1 Score: 0.9142\n",
            "Ensemble(Ratio):Resnet101:0.1 DenseNet201:0.05 VIT:0.85  Accuracy: 0.8021, Precision: 0.8523, Recall: 0.9112, F1 Score: 0.8808\n",
            "Ensemble(Ratio):Resnet101:0.2 DenseNet201:0.0 VIT:0.8  Accuracy: 0.8074, Precision: 0.8532, Recall: 0.9178, F1 Score: 0.8843\n",
            "Ensemble(Ratio):Resnet101:0.2 DenseNet201:0.1 VIT:0.7  Accuracy: 0.8206, Precision: 0.8533, Recall: 0.9375, F1 Score: 0.8934\n",
            "Ensemble(Ratio):Resnet101:0.2 DenseNet201:0.2 VIT:0.6  Accuracy: 0.8311, Precision: 0.8488, Recall: 0.9605, F1 Score: 0.9012\n",
            "Ensemble(Ratio):Resnet101:0.2 DenseNet201:0.3 VIT:0.5  Accuracy: 0.8391, Precision: 0.8501, Recall: 0.9704, F1 Score: 0.9063\n",
            "Ensemble(Ratio):Resnet101:0.2 DenseNet201:0.4 VIT:0.4  Accuracy: 0.8575, Precision: 0.8592, Recall: 0.9836, F1 Score: 0.9172\n",
            "Ensemble(Ratio):Resnet101:0.2 DenseNet201:0.5 VIT:0.3  Accuracy: 0.8681, Precision: 0.8671, Recall: 0.9868, F1 Score: 0.9231\n",
            "Ensemble(Ratio):Resnet101:0.2 DenseNet201:0.6 VIT:0.2  Accuracy: 0.8654, Precision: 0.8667, Recall: 0.9836, F1 Score: 0.9214\n",
            "Ensemble(Ratio):Resnet101:0.2 DenseNet201:0.8 VIT:0.0  Accuracy: 0.8549, Precision: 0.8651, Recall: 0.9704, F1 Score: 0.9147\n",
            "Ensemble(Ratio):Resnet101:0.2 DenseNet201:0.15 VIT:0.65  Accuracy: 0.8311, Precision: 0.8529, Recall: 0.9539, F1 Score: 0.9006\n",
            "Ensemble(Ratio):Resnet101:0.2 DenseNet201:0.25 VIT:0.55  Accuracy: 0.8338, Precision: 0.8473, Recall: 0.9671, F1 Score: 0.9032\n",
            "Ensemble(Ratio):Resnet101:0.2 DenseNet201:0.35 VIT:0.45  Accuracy: 0.8470, Precision: 0.8514, Recall: 0.9803, F1 Score: 0.9113\n",
            "Ensemble(Ratio):Resnet101:0.2 DenseNet201:0.45 VIT:0.35  Accuracy: 0.8628, Precision: 0.8621, Recall: 0.9868, F1 Score: 0.9202\n",
            "Ensemble(Ratio):Resnet101:0.2 DenseNet201:0.55 VIT:0.25  Accuracy: 0.8654, Precision: 0.8646, Recall: 0.9868, F1 Score: 0.9217\n",
            "Ensemble(Ratio):Resnet101:0.2 DenseNet201:0.65 VIT:0.15  Accuracy: 0.8654, Precision: 0.8688, Recall: 0.9803, F1 Score: 0.9212\n",
            "Ensemble(Ratio):Resnet101:0.2 DenseNet201:0.75 VIT:0.05  Accuracy: 0.8602, Precision: 0.8680, Recall: 0.9737, F1 Score: 0.9178\n",
            "Ensemble(Ratio):Resnet101:0.2 DenseNet201:0.05 VIT:0.75  Accuracy: 0.8179, Precision: 0.8550, Recall: 0.9309, F1 Score: 0.8913\n",
            "Ensemble(Ratio):Resnet101:0.3 DenseNet201:0.0 VIT:0.7  Accuracy: 0.8153, Precision: 0.8462, Recall: 0.9408, F1 Score: 0.8910\n",
            "Ensemble(Ratio):Resnet101:0.3 DenseNet201:0.1 VIT:0.6  Accuracy: 0.8259, Precision: 0.8459, Recall: 0.9572, F1 Score: 0.8981\n",
            "Ensemble(Ratio):Resnet101:0.3 DenseNet201:0.2 VIT:0.5  Accuracy: 0.8311, Precision: 0.8448, Recall: 0.9671, F1 Score: 0.9018\n",
            "Ensemble(Ratio):Resnet101:0.3 DenseNet201:0.3 VIT:0.4  Accuracy: 0.8470, Precision: 0.8514, Recall: 0.9803, F1 Score: 0.9113\n",
            "Ensemble(Ratio):Resnet101:0.3 DenseNet201:0.4 VIT:0.3  Accuracy: 0.8549, Precision: 0.8527, Recall: 0.9901, F1 Score: 0.9163\n",
            "Ensemble(Ratio):Resnet101:0.3 DenseNet201:0.5 VIT:0.2  Accuracy: 0.8628, Precision: 0.8642, Recall: 0.9836, F1 Score: 0.9200\n",
            "Ensemble(Ratio):Resnet101:0.3 DenseNet201:0.7 VIT:0.0  Accuracy: 0.8575, Precision: 0.8634, Recall: 0.9770, F1 Score: 0.9167\n",
            "Ensemble(Ratio):Resnet101:0.3 DenseNet201:0.15 VIT:0.55  Accuracy: 0.8311, Precision: 0.8468, Recall: 0.9638, F1 Score: 0.9015\n",
            "Ensemble(Ratio):Resnet101:0.3 DenseNet201:0.25 VIT:0.45  Accuracy: 0.8364, Precision: 0.8457, Recall: 0.9737, F1 Score: 0.9052\n",
            "Ensemble(Ratio):Resnet101:0.3 DenseNet201:0.45 VIT:0.25  Accuracy: 0.8575, Precision: 0.8571, Recall: 0.9868, F1 Score: 0.9174\n",
            "Ensemble(Ratio):Resnet101:0.3 DenseNet201:0.55 VIT:0.15  Accuracy: 0.8549, Precision: 0.8588, Recall: 0.9803, F1 Score: 0.9155\n",
            "Ensemble(Ratio):Resnet101:0.3 DenseNet201:0.65 VIT:0.05  Accuracy: 0.8628, Precision: 0.8663, Recall: 0.9803, F1 Score: 0.9198\n",
            "Ensemble(Ratio):Resnet101:0.3 DenseNet201:0.05 VIT:0.65  Accuracy: 0.8206, Precision: 0.8430, Recall: 0.9539, F1 Score: 0.8951\n",
            "Ensemble(Ratio):Resnet101:0.4 DenseNet201:0.0 VIT:0.6  Accuracy: 0.8259, Precision: 0.8439, Recall: 0.9605, F1 Score: 0.8985\n",
            "Ensemble(Ratio):Resnet101:0.4 DenseNet201:0.1 VIT:0.5  Accuracy: 0.8338, Precision: 0.8453, Recall: 0.9704, F1 Score: 0.9035\n",
            "Ensemble(Ratio):Resnet101:0.4 DenseNet201:0.2 VIT:0.4  Accuracy: 0.8417, Precision: 0.8506, Recall: 0.9737, F1 Score: 0.9080\n",
            "Ensemble(Ratio):Resnet101:0.4 DenseNet201:0.3 VIT:0.3  Accuracy: 0.8443, Precision: 0.8470, Recall: 0.9836, F1 Score: 0.9102\n",
            "Ensemble(Ratio):Resnet101:0.4 DenseNet201:0.4 VIT:0.2  Accuracy: 0.8496, Precision: 0.8499, Recall: 0.9868, F1 Score: 0.9132\n",
            "Ensemble(Ratio):Resnet101:0.4 DenseNet201:0.5 VIT:0.1  Accuracy: 0.8575, Precision: 0.8592, Recall: 0.9836, F1 Score: 0.9172\n",
            "Ensemble(Ratio):Resnet101:0.4 DenseNet201:0.6 VIT:0.0  Accuracy: 0.8654, Precision: 0.8646, Recall: 0.9868, F1 Score: 0.9217\n",
            "Ensemble(Ratio):Resnet101:0.4 DenseNet201:0.15 VIT:0.45  Accuracy: 0.8364, Precision: 0.8457, Recall: 0.9737, F1 Score: 0.9052\n",
            "Ensemble(Ratio):Resnet101:0.4 DenseNet201:0.25 VIT:0.35  Accuracy: 0.8391, Precision: 0.8462, Recall: 0.9770, F1 Score: 0.9069\n",
            "Ensemble(Ratio):Resnet101:0.4 DenseNet201:0.35 VIT:0.25  Accuracy: 0.8496, Precision: 0.8519, Recall: 0.9836, F1 Score: 0.9130\n",
            "Ensemble(Ratio):Resnet101:0.4 DenseNet201:0.45 VIT:0.15  Accuracy: 0.8496, Precision: 0.8519, Recall: 0.9836, F1 Score: 0.9130\n",
            "Ensemble(Ratio):Resnet101:0.4 DenseNet201:0.55 VIT:0.05  Accuracy: 0.8628, Precision: 0.8642, Recall: 0.9836, F1 Score: 0.9200\n",
            "Ensemble(Ratio):Resnet101:0.4 DenseNet201:0.05 VIT:0.55  Accuracy: 0.8285, Precision: 0.8444, Recall: 0.9638, F1 Score: 0.9002\n",
            "Ensemble(Ratio):Resnet101:0.5 DenseNet201:0.0 VIT:0.5  Accuracy: 0.8179, Precision: 0.8386, Recall: 0.9572, F1 Score: 0.8940\n",
            "Ensemble(Ratio):Resnet101:0.5 DenseNet201:0.1 VIT:0.4  Accuracy: 0.8311, Precision: 0.8429, Recall: 0.9704, F1 Score: 0.9021\n",
            "Ensemble(Ratio):Resnet101:0.5 DenseNet201:0.2 VIT:0.3  Accuracy: 0.8391, Precision: 0.8442, Recall: 0.9803, F1 Score: 0.9072\n",
            "Ensemble(Ratio):Resnet101:0.5 DenseNet201:0.3 VIT:0.2  Accuracy: 0.8470, Precision: 0.8475, Recall: 0.9868, F1 Score: 0.9119\n",
            "Ensemble(Ratio):Resnet101:0.5 DenseNet201:0.4 VIT:0.1  Accuracy: 0.8549, Precision: 0.8567, Recall: 0.9836, F1 Score: 0.9158\n",
            "Ensemble(Ratio):Resnet101:0.5 DenseNet201:0.5 VIT:0.0  Accuracy: 0.8549, Precision: 0.8567, Recall: 0.9836, F1 Score: 0.9158\n",
            "Ensemble(Ratio):Resnet101:0.5 DenseNet201:0.15 VIT:0.35  Accuracy: 0.8364, Precision: 0.8438, Recall: 0.9770, F1 Score: 0.9055\n",
            "Ensemble(Ratio):Resnet101:0.5 DenseNet201:0.25 VIT:0.25  Accuracy: 0.8470, Precision: 0.8494, Recall: 0.9836, F1 Score: 0.9116\n",
            "Ensemble(Ratio):Resnet101:0.5 DenseNet201:0.35 VIT:0.15  Accuracy: 0.8522, Precision: 0.8523, Recall: 0.9868, F1 Score: 0.9146\n",
            "Ensemble(Ratio):Resnet101:0.5 DenseNet201:0.45 VIT:0.05  Accuracy: 0.8575, Precision: 0.8571, Recall: 0.9868, F1 Score: 0.9174\n",
            "Ensemble(Ratio):Resnet101:0.5 DenseNet201:0.05 VIT:0.45  Accuracy: 0.8232, Precision: 0.8395, Recall: 0.9638, F1 Score: 0.8974\n",
            "Ensemble(Ratio):Resnet101:0.6 DenseNet201:0.0 VIT:0.4  Accuracy: 0.8206, Precision: 0.8371, Recall: 0.9638, F1 Score: 0.8960\n",
            "Ensemble(Ratio):Resnet101:0.6 DenseNet201:0.1 VIT:0.3  Accuracy: 0.8364, Precision: 0.8399, Recall: 0.9836, F1 Score: 0.9061\n",
            "Ensemble(Ratio):Resnet101:0.6 DenseNet201:0.2 VIT:0.2  Accuracy: 0.8391, Precision: 0.8423, Recall: 0.9836, F1 Score: 0.9074\n",
            "Ensemble(Ratio):Resnet101:0.6 DenseNet201:0.4 VIT:0.0  Accuracy: 0.8443, Precision: 0.8490, Recall: 0.9803, F1 Score: 0.9099\n",
            "Ensemble(Ratio):Resnet101:0.6 DenseNet201:0.15 VIT:0.25  Accuracy: 0.8364, Precision: 0.8399, Recall: 0.9836, F1 Score: 0.9061\n",
            "Ensemble(Ratio):Resnet101:0.6 DenseNet201:0.25 VIT:0.15  Accuracy: 0.8443, Precision: 0.8451, Recall: 0.9868, F1 Score: 0.9105\n",
            "Ensemble(Ratio):Resnet101:0.6 DenseNet201:0.35 VIT:0.05  Accuracy: 0.8470, Precision: 0.8494, Recall: 0.9836, F1 Score: 0.9116\n",
            "Ensemble(Ratio):Resnet101:0.6 DenseNet201:0.05 VIT:0.35  Accuracy: 0.8311, Precision: 0.8390, Recall: 0.9770, F1 Score: 0.9027\n",
            "Ensemble(Ratio):Resnet101:0.7 DenseNet201:0.0 VIT:0.3  Accuracy: 0.8285, Precision: 0.8366, Recall: 0.9770, F1 Score: 0.9014\n",
            "Ensemble(Ratio):Resnet101:0.7 DenseNet201:0.1 VIT:0.2  Accuracy: 0.8285, Precision: 0.8366, Recall: 0.9770, F1 Score: 0.9014\n",
            "Ensemble(Ratio):Resnet101:0.7 DenseNet201:0.3 VIT:0.0  Accuracy: 0.8417, Precision: 0.8466, Recall: 0.9803, F1 Score: 0.9085\n",
            "Ensemble(Ratio):Resnet101:0.7 DenseNet201:0.15 VIT:0.15  Accuracy: 0.8311, Precision: 0.8371, Recall: 0.9803, F1 Score: 0.9030\n",
            "Ensemble(Ratio):Resnet101:0.7 DenseNet201:0.25 VIT:0.05  Accuracy: 0.8391, Precision: 0.8423, Recall: 0.9836, F1 Score: 0.9074\n",
            "Ensemble(Ratio):Resnet101:0.7 DenseNet201:0.05 VIT:0.25  Accuracy: 0.8311, Precision: 0.8371, Recall: 0.9803, F1 Score: 0.9030\n",
            "Ensemble(Ratio):Resnet101:0.8 DenseNet201:0.0 VIT:0.2  Accuracy: 0.8206, Precision: 0.8315, Recall: 0.9737, F1 Score: 0.8970\n",
            "Ensemble(Ratio):Resnet101:0.8 DenseNet201:0.1 VIT:0.1  Accuracy: 0.8259, Precision: 0.8343, Recall: 0.9770, F1 Score: 0.9000\n",
            "Ensemble(Ratio):Resnet101:0.8 DenseNet201:0.2 VIT:0.0  Accuracy: 0.8338, Precision: 0.8375, Recall: 0.9836, F1 Score: 0.9047\n",
            "Ensemble(Ratio):Resnet101:0.8 DenseNet201:0.15 VIT:0.05  Accuracy: 0.8311, Precision: 0.8371, Recall: 0.9803, F1 Score: 0.9030\n",
            "Ensemble(Ratio):Resnet101:0.8 DenseNet201:0.05 VIT:0.15  Accuracy: 0.8206, Precision: 0.8315, Recall: 0.9737, F1 Score: 0.8970\n",
            "Ensemble(Ratio):Resnet101:0.9 DenseNet201:0.0 VIT:0.1  Accuracy: 0.8232, Precision: 0.8319, Recall: 0.9770, F1 Score: 0.8986\n",
            "Ensemble(Ratio):Resnet101:0.9 DenseNet201:0.1 VIT:0.0  Accuracy: 0.8285, Precision: 0.8366, Recall: 0.9770, F1 Score: 0.9014\n",
            "Ensemble(Ratio):Resnet101:0.9 DenseNet201:0.05 VIT:0.05  Accuracy: 0.8259, Precision: 0.8343, Recall: 0.9770, F1 Score: 0.9000\n",
            "Ensemble(Ratio):Resnet101:1.0 DenseNet201:0.0 VIT:0.0  Accuracy: 0.8232, Precision: 0.8338, Recall: 0.9737, F1 Score: 0.8983\n",
            "Ensemble(Ratio):Resnet101:0.15 DenseNet201:0.0 VIT:0.85  Accuracy: 0.8021, Precision: 0.8523, Recall: 0.9112, F1 Score: 0.8808\n",
            "Ensemble(Ratio):Resnet101:0.15 DenseNet201:0.1 VIT:0.75  Accuracy: 0.8127, Precision: 0.8541, Recall: 0.9243, F1 Score: 0.8878\n",
            "Ensemble(Ratio):Resnet101:0.15 DenseNet201:0.2 VIT:0.65  Accuracy: 0.8259, Precision: 0.8500, Recall: 0.9507, F1 Score: 0.8975\n",
            "Ensemble(Ratio):Resnet101:0.15 DenseNet201:0.3 VIT:0.55  Accuracy: 0.8364, Precision: 0.8497, Recall: 0.9671, F1 Score: 0.9046\n",
            "Ensemble(Ratio):Resnet101:0.15 DenseNet201:0.4 VIT:0.45  Accuracy: 0.8496, Precision: 0.8539, Recall: 0.9803, F1 Score: 0.9127\n",
            "Ensemble(Ratio):Resnet101:0.15 DenseNet201:0.5 VIT:0.35  Accuracy: 0.8734, Precision: 0.8721, Recall: 0.9868, F1 Score: 0.9259\n",
            "Ensemble(Ratio):Resnet101:0.15 DenseNet201:0.6 VIT:0.25  Accuracy: 0.8681, Precision: 0.8713, Recall: 0.9803, F1 Score: 0.9226\n",
            "Ensemble(Ratio):Resnet101:0.15 DenseNet201:0.7 VIT:0.15  Accuracy: 0.8707, Precision: 0.8739, Recall: 0.9803, F1 Score: 0.9240\n",
            "Ensemble(Ratio):Resnet101:0.15 DenseNet201:0.8 VIT:0.05  Accuracy: 0.8602, Precision: 0.8702, Recall: 0.9704, F1 Score: 0.9176\n",
            "Ensemble(Ratio):Resnet101:0.15 DenseNet201:0.15 VIT:0.7  Accuracy: 0.8232, Precision: 0.8537, Recall: 0.9408, F1 Score: 0.8951\n",
            "Ensemble(Ratio):Resnet101:0.15 DenseNet201:0.25 VIT:0.6  Accuracy: 0.8259, Precision: 0.8480, Recall: 0.9539, F1 Score: 0.8978\n",
            "Ensemble(Ratio):Resnet101:0.15 DenseNet201:0.35 VIT:0.5  Accuracy: 0.8417, Precision: 0.8506, Recall: 0.9737, F1 Score: 0.9080\n",
            "Ensemble(Ratio):Resnet101:0.15 DenseNet201:0.45 VIT:0.4  Accuracy: 0.8628, Precision: 0.8642, Recall: 0.9836, F1 Score: 0.9200\n",
            "Ensemble(Ratio):Resnet101:0.15 DenseNet201:0.55 VIT:0.3  Accuracy: 0.8707, Precision: 0.8696, Recall: 0.9868, F1 Score: 0.9245\n",
            "Ensemble(Ratio):Resnet101:0.15 DenseNet201:0.65 VIT:0.2  Accuracy: 0.8707, Precision: 0.8739, Recall: 0.9803, F1 Score: 0.9240\n",
            "Ensemble(Ratio):Resnet101:0.15 DenseNet201:0.75 VIT:0.1  Accuracy: 0.8654, Precision: 0.8710, Recall: 0.9770, F1 Score: 0.9209\n",
            "Ensemble(Ratio):Resnet101:0.15 DenseNet201:0.85 VIT:0.0  Accuracy: 0.8549, Precision: 0.8694, Recall: 0.9638, F1 Score: 0.9142\n",
            "Ensemble(Ratio):Resnet101:0.15 DenseNet201:0.05 VIT:0.8  Accuracy: 0.8127, Precision: 0.8541, Recall: 0.9243, F1 Score: 0.8878\n",
            "Ensemble(Ratio):Resnet101:0.25 DenseNet201:0.0 VIT:0.75  Accuracy: 0.8074, Precision: 0.8489, Recall: 0.9243, F1 Score: 0.8850\n",
            "Ensemble(Ratio):Resnet101:0.25 DenseNet201:0.1 VIT:0.65  Accuracy: 0.8259, Precision: 0.8480, Recall: 0.9539, F1 Score: 0.8978\n",
            "Ensemble(Ratio):Resnet101:0.25 DenseNet201:0.2 VIT:0.55  Accuracy: 0.8338, Precision: 0.8473, Recall: 0.9671, F1 Score: 0.9032\n",
            "Ensemble(Ratio):Resnet101:0.25 DenseNet201:0.3 VIT:0.45  Accuracy: 0.8364, Precision: 0.8438, Recall: 0.9770, F1 Score: 0.9055\n",
            "Ensemble(Ratio):Resnet101:0.25 DenseNet201:0.4 VIT:0.35  Accuracy: 0.8575, Precision: 0.8551, Recall: 0.9901, F1 Score: 0.9177\n",
            "Ensemble(Ratio):Resnet101:0.25 DenseNet201:0.5 VIT:0.25  Accuracy: 0.8681, Precision: 0.8649, Recall: 0.9901, F1 Score: 0.9233\n",
            "Ensemble(Ratio):Resnet101:0.25 DenseNet201:0.6 VIT:0.15  Accuracy: 0.8602, Precision: 0.8638, Recall: 0.9803, F1 Score: 0.9183\n",
            "Ensemble(Ratio):Resnet101:0.25 DenseNet201:0.7 VIT:0.05  Accuracy: 0.8575, Precision: 0.8634, Recall: 0.9770, F1 Score: 0.9167\n",
            "Ensemble(Ratio):Resnet101:0.25 DenseNet201:0.15 VIT:0.6  Accuracy: 0.8311, Precision: 0.8488, Recall: 0.9605, F1 Score: 0.9012\n",
            "Ensemble(Ratio):Resnet101:0.25 DenseNet201:0.25 VIT:0.5  Accuracy: 0.8311, Precision: 0.8448, Recall: 0.9671, F1 Score: 0.9018\n",
            "Ensemble(Ratio):Resnet101:0.25 DenseNet201:0.35 VIT:0.4  Accuracy: 0.8522, Precision: 0.8543, Recall: 0.9836, F1 Score: 0.9144\n",
            "Ensemble(Ratio):Resnet101:0.25 DenseNet201:0.45 VIT:0.3  Accuracy: 0.8602, Precision: 0.8575, Recall: 0.9901, F1 Score: 0.9191\n",
            "Ensemble(Ratio):Resnet101:0.25 DenseNet201:0.55 VIT:0.2  Accuracy: 0.8602, Precision: 0.8638, Recall: 0.9803, F1 Score: 0.9183\n",
            "Ensemble(Ratio):Resnet101:0.25 DenseNet201:0.65 VIT:0.1  Accuracy: 0.8602, Precision: 0.8638, Recall: 0.9803, F1 Score: 0.9183\n",
            "Ensemble(Ratio):Resnet101:0.25 DenseNet201:0.75 VIT:0.0  Accuracy: 0.8602, Precision: 0.8680, Recall: 0.9737, F1 Score: 0.9178\n",
            "Ensemble(Ratio):Resnet101:0.25 DenseNet201:0.05 VIT:0.7  Accuracy: 0.8206, Precision: 0.8491, Recall: 0.9441, F1 Score: 0.8941\n",
            "Ensemble(Ratio):Resnet101:0.35 DenseNet201:0.0 VIT:0.65  Accuracy: 0.8179, Precision: 0.8426, Recall: 0.9507, F1 Score: 0.8934\n",
            "Ensemble(Ratio):Resnet101:0.35 DenseNet201:0.1 VIT:0.55  Accuracy: 0.8311, Precision: 0.8448, Recall: 0.9671, F1 Score: 0.9018\n",
            "Ensemble(Ratio):Resnet101:0.35 DenseNet201:0.2 VIT:0.45  Accuracy: 0.8391, Precision: 0.8481, Recall: 0.9737, F1 Score: 0.9066\n",
            "Ensemble(Ratio):Resnet101:0.35 DenseNet201:0.4 VIT:0.25  Accuracy: 0.8496, Precision: 0.8499, Recall: 0.9868, F1 Score: 0.9132\n",
            "Ensemble(Ratio):Resnet101:0.35 DenseNet201:0.5 VIT:0.15  Accuracy: 0.8549, Precision: 0.8588, Recall: 0.9803, F1 Score: 0.9155\n",
            "Ensemble(Ratio):Resnet101:0.35 DenseNet201:0.6 VIT:0.05  Accuracy: 0.8575, Precision: 0.8613, Recall: 0.9803, F1 Score: 0.9169\n",
            "Ensemble(Ratio):Resnet101:0.35 DenseNet201:0.15 VIT:0.5  Accuracy: 0.8364, Precision: 0.8477, Recall: 0.9704, F1 Score: 0.9049\n",
            "Ensemble(Ratio):Resnet101:0.35 DenseNet201:0.25 VIT:0.4  Accuracy: 0.8417, Precision: 0.8486, Recall: 0.9770, F1 Score: 0.9083\n",
            "Ensemble(Ratio):Resnet101:0.35 DenseNet201:0.35 VIT:0.3  Accuracy: 0.8496, Precision: 0.8519, Recall: 0.9836, F1 Score: 0.9130\n",
            "Ensemble(Ratio):Resnet101:0.35 DenseNet201:0.45 VIT:0.2  Accuracy: 0.8522, Precision: 0.8523, Recall: 0.9868, F1 Score: 0.9146\n",
            "Ensemble(Ratio):Resnet101:0.35 DenseNet201:0.55 VIT:0.1  Accuracy: 0.8575, Precision: 0.8613, Recall: 0.9803, F1 Score: 0.9169\n",
            "Ensemble(Ratio):Resnet101:0.35 DenseNet201:0.65 VIT:0.0  Accuracy: 0.8654, Precision: 0.8667, Recall: 0.9836, F1 Score: 0.9214\n",
            "Ensemble(Ratio):Resnet101:0.35 DenseNet201:0.05 VIT:0.6  Accuracy: 0.8259, Precision: 0.8439, Recall: 0.9605, F1 Score: 0.8985\n",
            "Ensemble(Ratio):Resnet101:0.45 DenseNet201:0.0 VIT:0.55  Accuracy: 0.8232, Precision: 0.8415, Recall: 0.9605, F1 Score: 0.8971\n",
            "Ensemble(Ratio):Resnet101:0.45 DenseNet201:0.1 VIT:0.45  Accuracy: 0.8285, Precision: 0.8405, Recall: 0.9704, F1 Score: 0.9008\n",
            "Ensemble(Ratio):Resnet101:0.45 DenseNet201:0.2 VIT:0.35  Accuracy: 0.8417, Precision: 0.8486, Recall: 0.9770, F1 Score: 0.9083\n",
            "Ensemble(Ratio):Resnet101:0.45 DenseNet201:0.3 VIT:0.25  Accuracy: 0.8470, Precision: 0.8494, Recall: 0.9836, F1 Score: 0.9116\n",
            "Ensemble(Ratio):Resnet101:0.45 DenseNet201:0.4 VIT:0.15  Accuracy: 0.8549, Precision: 0.8547, Recall: 0.9868, F1 Score: 0.9160\n",
            "Ensemble(Ratio):Resnet101:0.45 DenseNet201:0.5 VIT:0.05  Accuracy: 0.8602, Precision: 0.8617, Recall: 0.9836, F1 Score: 0.9186\n",
            "Ensemble(Ratio):Resnet101:0.45 DenseNet201:0.15 VIT:0.4  Accuracy: 0.8311, Precision: 0.8409, Recall: 0.9737, F1 Score: 0.9024\n",
            "Ensemble(Ratio):Resnet101:0.45 DenseNet201:0.25 VIT:0.3  Accuracy: 0.8391, Precision: 0.8442, Recall: 0.9803, F1 Score: 0.9072\n",
            "Ensemble(Ratio):Resnet101:0.45 DenseNet201:0.35 VIT:0.2  Accuracy: 0.8443, Precision: 0.8470, Recall: 0.9836, F1 Score: 0.9102\n",
            "Ensemble(Ratio):Resnet101:0.45 DenseNet201:0.45 VIT:0.1  Accuracy: 0.8522, Precision: 0.8543, Recall: 0.9836, F1 Score: 0.9144\n",
            "Ensemble(Ratio):Resnet101:0.45 DenseNet201:0.55 VIT:0.0  Accuracy: 0.8654, Precision: 0.8646, Recall: 0.9868, F1 Score: 0.9217\n",
            "Ensemble(Ratio):Resnet101:0.45 DenseNet201:0.05 VIT:0.5  Accuracy: 0.8232, Precision: 0.8395, Recall: 0.9638, F1 Score: 0.8974\n",
            "Ensemble(Ratio):Resnet101:0.55 DenseNet201:0.0 VIT:0.45  Accuracy: 0.8179, Precision: 0.8348, Recall: 0.9638, F1 Score: 0.8947\n",
            "Ensemble(Ratio):Resnet101:0.55 DenseNet201:0.1 VIT:0.35  Accuracy: 0.8338, Precision: 0.8414, Recall: 0.9770, F1 Score: 0.9041\n",
            "Ensemble(Ratio):Resnet101:0.55 DenseNet201:0.2 VIT:0.25  Accuracy: 0.8364, Precision: 0.8399, Recall: 0.9836, F1 Score: 0.9061\n",
            "Ensemble(Ratio):Resnet101:0.55 DenseNet201:0.3 VIT:0.15  Accuracy: 0.8443, Precision: 0.8451, Recall: 0.9868, F1 Score: 0.9105\n",
            "Ensemble(Ratio):Resnet101:0.55 DenseNet201:0.4 VIT:0.05  Accuracy: 0.8470, Precision: 0.8514, Recall: 0.9803, F1 Score: 0.9113\n",
            "Ensemble(Ratio):Resnet101:0.55 DenseNet201:0.15 VIT:0.3  Accuracy: 0.8391, Precision: 0.8423, Recall: 0.9836, F1 Score: 0.9074\n",
            "Ensemble(Ratio):Resnet101:0.55 DenseNet201:0.25 VIT:0.2  Accuracy: 0.8496, Precision: 0.8499, Recall: 0.9868, F1 Score: 0.9132\n",
            "Ensemble(Ratio):Resnet101:0.55 DenseNet201:0.35 VIT:0.1  Accuracy: 0.8496, Precision: 0.8499, Recall: 0.9868, F1 Score: 0.9132\n",
            "Ensemble(Ratio):Resnet101:0.55 DenseNet201:0.45 VIT:0.0  Accuracy: 0.8522, Precision: 0.8563, Recall: 0.9803, F1 Score: 0.9141\n",
            "Ensemble(Ratio):Resnet101:0.55 DenseNet201:0.05 VIT:0.4  Accuracy: 0.8232, Precision: 0.8395, Recall: 0.9638, F1 Score: 0.8974\n",
            "Ensemble(Ratio):Resnet101:0.65 DenseNet201:0.0 VIT:0.35  Accuracy: 0.8259, Precision: 0.8362, Recall: 0.9737, F1 Score: 0.8997\n",
            "Ensemble(Ratio):Resnet101:0.65 DenseNet201:0.1 VIT:0.25  Accuracy: 0.8338, Precision: 0.8375, Recall: 0.9836, F1 Score: 0.9047\n",
            "Ensemble(Ratio):Resnet101:0.65 DenseNet201:0.2 VIT:0.15  Accuracy: 0.8391, Precision: 0.8442, Recall: 0.9803, F1 Score: 0.9072\n",
            "Ensemble(Ratio):Resnet101:0.65 DenseNet201:0.3 VIT:0.05  Accuracy: 0.8470, Precision: 0.8475, Recall: 0.9868, F1 Score: 0.9119\n",
            "Ensemble(Ratio):Resnet101:0.65 DenseNet201:0.15 VIT:0.2  Accuracy: 0.8364, Precision: 0.8399, Recall: 0.9836, F1 Score: 0.9061\n",
            "Ensemble(Ratio):Resnet101:0.65 DenseNet201:0.25 VIT:0.1  Accuracy: 0.8443, Precision: 0.8451, Recall: 0.9868, F1 Score: 0.9105\n",
            "Ensemble(Ratio):Resnet101:0.65 DenseNet201:0.35 VIT:0.0  Accuracy: 0.8443, Precision: 0.8470, Recall: 0.9836, F1 Score: 0.9102\n",
            "Ensemble(Ratio):Resnet101:0.65 DenseNet201:0.05 VIT:0.3  Accuracy: 0.8338, Precision: 0.8394, Recall: 0.9803, F1 Score: 0.9044\n",
            "Ensemble(Ratio):Resnet101:0.75 DenseNet201:0.0 VIT:0.25  Accuracy: 0.8232, Precision: 0.8357, Recall: 0.9704, F1 Score: 0.8980\n",
            "Ensemble(Ratio):Resnet101:0.75 DenseNet201:0.1 VIT:0.15  Accuracy: 0.8232, Precision: 0.8338, Recall: 0.9737, F1 Score: 0.8983\n",
            "Ensemble(Ratio):Resnet101:0.75 DenseNet201:0.2 VIT:0.05  Accuracy: 0.8338, Precision: 0.8394, Recall: 0.9803, F1 Score: 0.9044\n",
            "Ensemble(Ratio):Resnet101:0.75 DenseNet201:0.15 VIT:0.1  Accuracy: 0.8311, Precision: 0.8371, Recall: 0.9803, F1 Score: 0.9030\n",
            "Ensemble(Ratio):Resnet101:0.75 DenseNet201:0.25 VIT:0.0  Accuracy: 0.8443, Precision: 0.8470, Recall: 0.9836, F1 Score: 0.9102\n",
            "Ensemble(Ratio):Resnet101:0.75 DenseNet201:0.05 VIT:0.2  Accuracy: 0.8232, Precision: 0.8338, Recall: 0.9737, F1 Score: 0.8983\n",
            "Ensemble(Ratio):Resnet101:0.85 DenseNet201:0.0 VIT:0.15  Accuracy: 0.8232, Precision: 0.8319, Recall: 0.9770, F1 Score: 0.8986\n",
            "Ensemble(Ratio):Resnet101:0.85 DenseNet201:0.1 VIT:0.05  Accuracy: 0.8259, Precision: 0.8343, Recall: 0.9770, F1 Score: 0.9000\n",
            "Ensemble(Ratio):Resnet101:0.85 DenseNet201:0.15 VIT:0.0  Accuracy: 0.8311, Precision: 0.8371, Recall: 0.9803, F1 Score: 0.9030\n",
            "Ensemble(Ratio):Resnet101:0.85 DenseNet201:0.05 VIT:0.1  Accuracy: 0.8232, Precision: 0.8319, Recall: 0.9770, F1 Score: 0.8986\n",
            "Ensemble(Ratio):Resnet101:0.05 DenseNet201:0.0 VIT:0.95  Accuracy: 0.7942, Precision: 0.8531, Recall: 0.8980, F1 Score: 0.8750\n",
            "Ensemble(Ratio):Resnet101:0.05 DenseNet201:0.1 VIT:0.85  Accuracy: 0.8021, Precision: 0.8545, Recall: 0.9079, F1 Score: 0.8804\n",
            "Ensemble(Ratio):Resnet101:0.05 DenseNet201:0.2 VIT:0.75  Accuracy: 0.8127, Precision: 0.8498, Recall: 0.9309, F1 Score: 0.8885\n",
            "Ensemble(Ratio):Resnet101:0.05 DenseNet201:0.3 VIT:0.65  Accuracy: 0.8259, Precision: 0.8542, Recall: 0.9441, F1 Score: 0.8969\n",
            "Ensemble(Ratio):Resnet101:0.05 DenseNet201:0.4 VIT:0.55  Accuracy: 0.8443, Precision: 0.8571, Recall: 0.9671, F1 Score: 0.9088\n",
            "Ensemble(Ratio):Resnet101:0.05 DenseNet201:0.5 VIT:0.45  Accuracy: 0.8602, Precision: 0.8659, Recall: 0.9770, F1 Score: 0.9181\n",
            "Ensemble(Ratio):Resnet101:0.05 DenseNet201:0.6 VIT:0.35  Accuracy: 0.8760, Precision: 0.8768, Recall: 0.9836, F1 Score: 0.9271\n",
            "Ensemble(Ratio):Resnet101:0.05 DenseNet201:0.7 VIT:0.25  Accuracy: 0.8786, Precision: 0.8817, Recall: 0.9803, F1 Score: 0.9283\n",
            "Ensemble(Ratio):Resnet101:0.05 DenseNet201:0.8 VIT:0.15  Accuracy: 0.8681, Precision: 0.8757, Recall: 0.9737, F1 Score: 0.9221\n",
            "Ensemble(Ratio):Resnet101:0.05 DenseNet201:0.9 VIT:0.05  Accuracy: 0.8549, Precision: 0.8694, Recall: 0.9638, F1 Score: 0.9142\n",
            "Ensemble(Ratio):Resnet101:0.05 DenseNet201:0.15 VIT:0.8  Accuracy: 0.8021, Precision: 0.8480, Recall: 0.9178, F1 Score: 0.8815\n",
            "Ensemble(Ratio):Resnet101:0.05 DenseNet201:0.25 VIT:0.7  Accuracy: 0.8179, Precision: 0.8507, Recall: 0.9375, F1 Score: 0.8920\n",
            "Ensemble(Ratio):Resnet101:0.05 DenseNet201:0.35 VIT:0.6  Accuracy: 0.8364, Precision: 0.8538, Recall: 0.9605, F1 Score: 0.9040\n",
            "Ensemble(Ratio):Resnet101:0.05 DenseNet201:0.45 VIT:0.5  Accuracy: 0.8470, Precision: 0.8555, Recall: 0.9737, F1 Score: 0.9108\n",
            "Ensemble(Ratio):Resnet101:0.05 DenseNet201:0.55 VIT:0.4  Accuracy: 0.8707, Precision: 0.8739, Recall: 0.9803, F1 Score: 0.9240\n",
            "Ensemble(Ratio):Resnet101:0.05 DenseNet201:0.65 VIT:0.3  Accuracy: 0.8786, Precision: 0.8817, Recall: 0.9803, F1 Score: 0.9283\n",
            "Ensemble(Ratio):Resnet101:0.05 DenseNet201:0.75 VIT:0.2  Accuracy: 0.8760, Precision: 0.8791, Recall: 0.9803, F1 Score: 0.9269\n",
            "Ensemble(Ratio):Resnet101:0.05 DenseNet201:0.85 VIT:0.1  Accuracy: 0.8602, Precision: 0.8724, Recall: 0.9671, F1 Score: 0.9173\n",
            "Ensemble(Ratio):Resnet101:0.05 DenseNet201:0.05 VIT:0.9  Accuracy: 0.7968, Precision: 0.8536, Recall: 0.9013, F1 Score: 0.8768\n",
            "Ensemble(Ratio):Resnet101:0.05 DenseNet201:0.95 VIT:0.0  Accuracy: 0.8522, Precision: 0.8690, Recall: 0.9605, F1 Score: 0.9125\n",
            "Ensemble(Ratio):Resnet101:0.95 DenseNet201:0.0 VIT:0.05  Accuracy: 0.8232, Precision: 0.8319, Recall: 0.9770, F1 Score: 0.8986\n",
            "Ensemble(Ratio):Resnet101:0.95 DenseNet201:0.05 VIT:0.0  Accuracy: 0.8285, Precision: 0.8347, Recall: 0.9803, F1 Score: 0.9017\n"
          ]
        }
      ],
      "source": [
        "with open(results_file_path, mode='a', newline='') as file:\n",
        "    writer = csv.writer(file)\n",
        "\n",
        "    for i in range(len(res)):\n",
        "        # Instantiate the ensemble model with trained models and weights\n",
        "        ensemble_model = EnsembleModel(model_ResNet101, model_DenseNet201, model_ViT, [res[i][0], res[i][1], res[i][2]])\n",
        "\n",
        "        accuracy, precision, recall, f1, cm = evaluate_model(ensemble_model, test_loader, device)\n",
        "\n",
        "        # Write the results to the CSV file\n",
        "        writer.writerow([[res[i][0], res[i][1], res[i][2]], res[i][0], res[i][1], res[i][2], accuracy, precision, recall, f1])\n",
        "\n",
        "        # Optional: Print the results\n",
        "        print(f'Ensemble(Ratio):Resnet101:{res[i][0]} DenseNet201:{res[i][1]} VIT:{res[i][2]}  Accuracy: {accuracy:.4f}, Precision: {precision:.4f}, Recall: {recall:.4f}, F1 Score: {f1:.4f}')\n",
        "        # plot_confusion_matrix(cm, 'Confusion Matrix for Ensemble Model')"
      ]
    }
  ],
  "metadata": {
    "accelerator": "GPU",
    "colab": {
      "provenance": []
    },
    "kernelspec": {
      "display_name": "Python 3",
      "name": "python3"
    },
    "language_info": {
      "name": "python"
    }
  },
  "nbformat": 4,
  "nbformat_minor": 0
}